{
 "cells": [
  {
   "cell_type": "markdown",
   "id": "517132c5",
   "metadata": {},
   "source": [
    "## Exercise 2\n",
    "The exercise comes first (with a few extras if you want the extra challenge or want to spend more time), followed by a discussion. Enjoy!\n",
    "\n",
    "Ask the user for a number. Depending on whether the number is even or odd, print out an appropriate message to the user. Hint: how does an even / odd number react differently when divided by 2?\n",
    "\n",
    "Extras:\n",
    "\n",
    " * If the number is a multiple of 4, print out a different message.\n",
    " * Ask the user for two numbers: one number to check (call it num) and one number to divide by (check). If check divides evenly into num, tell that to the user. If not, print a different appropriate message."
   ]
  },
  {
   "cell_type": "code",
   "execution_count": 8,
   "id": "2be2e0da",
   "metadata": {},
   "outputs": [
    {
     "name": "stdout",
     "output_type": "stream",
     "text": [
      "Enter a number, please : 16\n",
      "You picked an even number\n"
     ]
    }
   ],
   "source": [
    "num = int(input(\"Enter a number, please : \"));\n",
    "\n",
    "if(num % 2 == 0):\n",
    "    print(\"You picked an even number\");\n",
    "else:\n",
    "    print(\"You picked an odd number\");"
   ]
  },
  {
   "cell_type": "markdown",
   "id": "fb85b086",
   "metadata": {},
   "source": [
    "## Extras"
   ]
  },
  {
   "cell_type": "code",
   "execution_count": 9,
   "id": "153dcc5a",
   "metadata": {},
   "outputs": [
    {
     "name": "stdout",
     "output_type": "stream",
     "text": [
      "Give me a number to check:10\n",
      "Give me a number to divide by:2\n",
      "10 is an even number\n",
      "10 divides evenly by 2\n"
     ]
    }
   ],
   "source": [
    "num = int(input(\"Give me a number to check:\"));\n",
    "check = int(input(\"Give me a number to divide by:\"));\n",
    "\n",
    "if num % 4 == 0:\n",
    "    print(num, \"is a multiple of 4\")\n",
    "elif num % 2 == 0:\n",
    "    print(num, \"is an even number\")\n",
    "else:\n",
    "    print(num, \"is an odd number\")\n",
    "\n",
    "if num % check == 0:\n",
    "    print(num, \"divides evenly by\", check)\n",
    "else:\n",
    "    print(num, \"does not divide evenly by\", check)"
   ]
  },
  {
   "cell_type": "code",
   "execution_count": null,
   "id": "1e265130",
   "metadata": {},
   "outputs": [],
   "source": []
  }
 ],
 "metadata": {
  "kernelspec": {
   "display_name": "Python 3 (ipykernel)",
   "language": "python",
   "name": "python3"
  },
  "language_info": {
   "codemirror_mode": {
    "name": "ipython",
    "version": 3
   },
   "file_extension": ".py",
   "mimetype": "text/x-python",
   "name": "python",
   "nbconvert_exporter": "python",
   "pygments_lexer": "ipython3",
   "version": "3.9.13"
  }
 },
 "nbformat": 4,
 "nbformat_minor": 5
}
