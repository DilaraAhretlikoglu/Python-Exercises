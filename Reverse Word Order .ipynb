{
 "cells": [
  {
   "cell_type": "markdown",
   "id": "6ea4c6de",
   "metadata": {},
   "source": [
    "# Exercise 15\n",
    "Write a program (using functions!) that asks the user for a long string containing multiple words. Print back to the user the same string, except with the words in backwards order. For example, say I type the string:\n",
    "\n",
    "  * My name is Michele\n",
    "  \n",
    "Then I would see the string:\n",
    "\n",
    "*   Michele is name My\n",
    "\n",
    "shown back to me.\n",
    "\n"
   ]
  },
  {
   "cell_type": "code",
   "execution_count": null,
   "id": "d766aef4",
   "metadata": {},
   "outputs": [],
   "source": [
    "def reverse(str):\n",
    "    result = string.split(\" \")\n",
    "    reversed_list = result[::-1]\n",
    "\n",
    "    print(\" \".join(reversed_list)) \n",
    "\n",
    "string = input(\"Please enter a sentence :\")\n",
    "reverse(string)"
   ]
  },
  {
   "cell_type": "code",
   "execution_count": null,
   "id": "6b256cfa",
   "metadata": {},
   "outputs": [],
   "source": []
  },
  {
   "cell_type": "code",
   "execution_count": null,
   "id": "05527867",
   "metadata": {},
   "outputs": [],
   "source": []
  }
 ],
 "metadata": {
  "kernelspec": {
   "display_name": "Python 3 (ipykernel)",
   "language": "python",
   "name": "python3"
  },
  "language_info": {
   "codemirror_mode": {
    "name": "ipython",
    "version": 3
   },
   "file_extension": ".py",
   "mimetype": "text/x-python",
   "name": "python",
   "nbconvert_exporter": "python",
   "pygments_lexer": "ipython3",
   "version": "3.9.13"
  }
 },
 "nbformat": 4,
 "nbformat_minor": 5
}
