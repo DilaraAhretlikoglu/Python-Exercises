{
 "cells": [
  {
   "cell_type": "markdown",
   "id": "20f7aa0e",
   "metadata": {},
   "source": [
    "# Exercise 12 \n",
    "Write a program that takes a list of numbers (for example, a = [5, 10, 15, 20, 25]) and makes a new list of only the first and last elements of the given list. For practice, write this code inside a function."
   ]
  },
  {
   "cell_type": "code",
   "execution_count": 8,
   "id": "1b3d64a5",
   "metadata": {},
   "outputs": [
    {
     "data": {
      "text/plain": [
       "[1, 2]"
      ]
     },
     "execution_count": 8,
     "metadata": {},
     "output_type": "execute_result"
    }
   ],
   "source": [
    "def list_ends(list):\n",
    "    list2 = []\n",
    "    \n",
    "    list2.append(list[0])\n",
    "    list2.append(list[-1])\n",
    "    \n",
    "    \n",
    "    return list2\n",
    "\n",
    "list = [5, 10, 15, 20, 25]\n",
    "list_ends(list)\n"
   ]
  },
  {
   "cell_type": "code",
   "execution_count": null,
   "id": "99318389",
   "metadata": {},
   "outputs": [],
   "source": []
  }
 ],
 "metadata": {
  "kernelspec": {
   "display_name": "Python 3 (ipykernel)",
   "language": "python",
   "name": "python3"
  },
  "language_info": {
   "codemirror_mode": {
    "name": "ipython",
    "version": 3
   },
   "file_extension": ".py",
   "mimetype": "text/x-python",
   "name": "python",
   "nbconvert_exporter": "python",
   "pygments_lexer": "ipython3",
   "version": "3.9.13"
  }
 },
 "nbformat": 4,
 "nbformat_minor": 5
}
