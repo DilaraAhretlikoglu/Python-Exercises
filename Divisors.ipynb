{
 "cells": [
  {
   "cell_type": "markdown",
   "id": "5b8b0aed",
   "metadata": {},
   "source": [
    "## Exercise 4  \n",
    "\n",
    "Create a program that asks the user for a number and then prints out a list of all the divisors of that number. (If you don’t know what a divisor is, it is a number that divides evenly into another number. For example, 13 is a divisor of 26 because 26 / 13 has no remainder.)"
   ]
  },
  {
   "cell_type": "code",
   "execution_count": 15,
   "id": "0b46cc84",
   "metadata": {},
   "outputs": [
    {
     "name": "stdout",
     "output_type": "stream",
     "text": [
      "Enter a number, please: 20\n",
      "Divisors :  [1, 2, 4, 5, 10, 20]\n"
     ]
    }
   ],
   "source": [
    "num = int(input(\"Enter a number, please: \"))\n",
    "divisors = []\n",
    "\n",
    "i = 1\n",
    "while i <= num :\n",
    "    if num % i == 0:\n",
    "        divisors.append(i);\n",
    "    \n",
    "    i+=1\n",
    "    \n",
    "print(\"Divisors : \", divisors);\n",
    "\n",
    "    "
   ]
  },
  {
   "cell_type": "code",
   "execution_count": null,
   "id": "06db06e6",
   "metadata": {},
   "outputs": [],
   "source": []
  }
 ],
 "metadata": {
  "kernelspec": {
   "display_name": "Python 3 (ipykernel)",
   "language": "python",
   "name": "python3"
  },
  "language_info": {
   "codemirror_mode": {
    "name": "ipython",
    "version": 3
   },
   "file_extension": ".py",
   "mimetype": "text/x-python",
   "name": "python",
   "nbconvert_exporter": "python",
   "pygments_lexer": "ipython3",
   "version": "3.9.13"
  }
 },
 "nbformat": 4,
 "nbformat_minor": 5
}
