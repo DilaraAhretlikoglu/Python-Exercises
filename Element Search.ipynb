{
 "cells": [
  {
   "cell_type": "markdown",
   "id": "95c33b18",
   "metadata": {},
   "source": [
    "# Exercise 20 \n",
    "Write a function that takes an ordered list of numbers (a list where the elements are in order from smallest to largest) and another number. The function decides whether or not the given number is inside the list and returns (then prints) an appropriate boolean.\n",
    "\n",
    "Extras:\n",
    "\n",
    "* Use binary search."
   ]
  },
  {
   "cell_type": "code",
   "execution_count": 6,
   "id": "4832008c",
   "metadata": {},
   "outputs": [
    {
     "name": "stdout",
     "output_type": "stream",
     "text": [
      "True\n",
      "False\n",
      "False\n",
      "True\n"
     ]
    }
   ],
   "source": [
    "def find (ordered_list, element_to_find):\n",
    "    for element in ordered_list:\n",
    "        if element == element_to_find:\n",
    "            return True\n",
    "    return False\n",
    "list = [ 2, 3, 4, 5, 6, 7, 8, 9]\n",
    "print(find(list, 5)) \n",
    "print(find(list, 10)) \n",
    "print(find(list, -1))\n",
    "print(find(list, 2))"
   ]
  },
  {
   "cell_type": "markdown",
   "id": "01b4839d",
   "metadata": {},
   "source": [
    "### Binary Search "
   ]
  },
  {
   "cell_type": "code",
   "execution_count": 8,
   "id": "8b58c7ee",
   "metadata": {},
   "outputs": [
    {
     "ename": "IndentationError",
     "evalue": "unindent does not match any outer indentation level (<tokenize>, line 5)",
     "output_type": "error",
     "traceback": [
      "\u001b[1;36m  File \u001b[1;32m\"<tokenize>\"\u001b[1;36m, line \u001b[1;32m5\u001b[0m\n\u001b[1;33m    while True:\u001b[0m\n\u001b[1;37m    ^\u001b[0m\n\u001b[1;31mIndentationError\u001b[0m\u001b[1;31m:\u001b[0m unindent does not match any outer indentation level\n"
     ]
    }
   ],
   "source": [
    "def find(ordered_list, element_to_find):\n",
    "    start_index = 1\n",
    "    end_index = len(ordered_list) - 1\n",
    "  \n",
    "  while True:\n",
    "    middle_index = (end_index - start_index) / 2\n",
    "    \n",
    "    if middle_index < start_index or middle_index > end_index or middle_index < 0:\n",
    "        return False\n",
    "    \n",
    "    middle_element = ordered_list[middle_index]\n",
    "    if middle_element == element_to_find:\n",
    "        return True\n",
    "    elif middle_element < element_to_find:\n",
    "        end_index = middle_index\n",
    "    else:\n",
    "        start_index = middle_index\n",
    "  \n",
    "    if __name__==\"__main__\":\n",
    "        l = [2, 4, 6, 8, 10]\n",
    "        print(find(l, 5)) # prints False\n",
    "        print(find(l, 10)) # prints True\n",
    "        print(find(l, -1)) # prints False\n",
    "        print(find(l, 2))\n"
   ]
  },
  {
   "cell_type": "code",
   "execution_count": null,
   "id": "3032f132",
   "metadata": {},
   "outputs": [],
   "source": []
  }
 ],
 "metadata": {
  "kernelspec": {
   "display_name": "Python 3 (ipykernel)",
   "language": "python",
   "name": "python3"
  },
  "language_info": {
   "codemirror_mode": {
    "name": "ipython",
    "version": 3
   },
   "file_extension": ".py",
   "mimetype": "text/x-python",
   "name": "python",
   "nbconvert_exporter": "python",
   "pygments_lexer": "ipython3",
   "version": "3.9.13"
  }
 },
 "nbformat": 4,
 "nbformat_minor": 5
}
