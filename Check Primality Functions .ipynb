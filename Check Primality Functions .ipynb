{
 "cells": [
  {
   "cell_type": "markdown",
   "id": "a10885b7",
   "metadata": {},
   "source": [
    "# Exercise 11 \n",
    "Ask the user for a number and determine whether the number is prime or not. (For those who have forgotten, a prime number is a number that has no divisors.). You can (and should!) use your answer to Exercise 4 to help you. Take this opportunity to practice using functions, described below."
   ]
  },
  {
   "cell_type": "code",
   "execution_count": 2,
   "id": "dcd100bb",
   "metadata": {},
   "outputs": [
    {
     "name": "stdout",
     "output_type": "stream",
     "text": [
      "Please, enter a number: 77\n",
      "77 is not a prime number\n"
     ]
    }
   ],
   "source": [
    "def check_prime_number(number):\n",
    "    counter = 0\n",
    "    for i in range(1,number):\n",
    "        if(number % i == 0):\n",
    "            counter +=1\n",
    "    if(counter ==2):\n",
    "        print(\"{} is a prime number\".format(number))\n",
    "    else:\n",
    "        print(\"{} is not a prime number\".format(number))\n",
    "        \n",
    "\n",
    "num = int(input(\"Please, enter a number: \"))\n",
    "check_prime_number(num)\n",
    "    \n",
    "    "
   ]
  },
  {
   "cell_type": "code",
   "execution_count": null,
   "id": "c24d95f6",
   "metadata": {},
   "outputs": [],
   "source": []
  }
 ],
 "metadata": {
  "kernelspec": {
   "display_name": "Python 3 (ipykernel)",
   "language": "python",
   "name": "python3"
  },
  "language_info": {
   "codemirror_mode": {
    "name": "ipython",
    "version": 3
   },
   "file_extension": ".py",
   "mimetype": "text/x-python",
   "name": "python",
   "nbconvert_exporter": "python",
   "pygments_lexer": "ipython3",
   "version": "3.9.13"
  }
 },
 "nbformat": 4,
 "nbformat_minor": 5
}
