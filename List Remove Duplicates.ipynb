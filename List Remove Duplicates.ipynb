{
 "cells": [
  {
   "cell_type": "markdown",
   "id": "482f5af5",
   "metadata": {},
   "source": [
    "# Exercise 14\n",
    "Write a program (function!) that takes a list and returns a new list that contains all the elements of the first list minus all the duplicates.\n",
    "\n",
    "Extras:\n",
    "\n",
    "* Write two different functions to do this - one using a loop and constructing a list, and another using sets.\n",
    "* Go back and do Exercise 5 using sets, and write the solution for that in a different function."
   ]
  },
  {
   "cell_type": "code",
   "execution_count": 10,
   "id": "ce92c59f",
   "metadata": {},
   "outputs": [
    {
     "name": "stdout",
     "output_type": "stream",
     "text": [
      "[1, 2, 3, 4]\n"
     ]
    }
   ],
   "source": [
    "def dedupe_v1(x):\n",
    "    y = []\n",
    "    for i in x:\n",
    "        if i not in y:\n",
    "            y.append(i)\n",
    "    return y\n",
    "\n",
    "a = [1, 2, 3, 4, 3, 2, 1]\n",
    "print(dedupe_v1(a))\n"
   ]
  },
  {
   "cell_type": "code",
   "execution_count": 11,
   "id": "3d7756b8",
   "metadata": {},
   "outputs": [
    {
     "name": "stdout",
     "output_type": "stream",
     "text": [
      "[1, 2, 3, 4]\n"
     ]
    }
   ],
   "source": [
    "def dedupe_v2(x):\n",
    "    return list(set(x))\n",
    "a = [1, 2, 3, 4, 3, 2, 1]\n",
    "print(dedupe_v2(a))"
   ]
  },
  {
   "cell_type": "code",
   "execution_count": null,
   "id": "f611c29f",
   "metadata": {},
   "outputs": [],
   "source": []
  }
 ],
 "metadata": {
  "kernelspec": {
   "display_name": "Python 3 (ipykernel)",
   "language": "python",
   "name": "python3"
  },
  "language_info": {
   "codemirror_mode": {
    "name": "ipython",
    "version": 3
   },
   "file_extension": ".py",
   "mimetype": "text/x-python",
   "name": "python",
   "nbconvert_exporter": "python",
   "pygments_lexer": "ipython3",
   "version": "3.9.13"
  }
 },
 "nbformat": 4,
 "nbformat_minor": 5
}
