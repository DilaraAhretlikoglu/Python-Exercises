{
 "cells": [
  {
   "cell_type": "markdown",
   "id": "4b1a47a7",
   "metadata": {},
   "source": [
    "# Exercise 9 \n",
    "Generate a random number between 1 and 9 (including 1 and 9). Ask the user to guess the number, then tell them whether they guessed too low, too high, or exactly right. (Hint: remember to use the user input lessons from the very first exercise)\n",
    "\n",
    "Extras:\n",
    "\n",
    "* Keep the game going until the user types “exit”\n",
    "* Keep track of how many guesses the user has taken, and when the game ends, print this out."
   ]
  },
  {
   "cell_type": "code",
   "execution_count": 17,
   "id": "eda056de",
   "metadata": {},
   "outputs": [
    {
     "name": "stdout",
     "output_type": "stream",
     "text": [
      "Enter a guess between 1 to 98\n",
      "Too high\n",
      "Enter a guess between 1 to 95\n",
      "Right!\n",
      "You took only 2 tries !\n"
     ]
    }
   ],
   "source": [
    "import random\n",
    "a = random.randint(1,9)\n",
    "guess = 0\n",
    "counter = 0;\n",
    "while guess != a and guess != \"exit\":\n",
    "    guess = input(\"Enter a guess between 1 to 9\")\n",
    "    \n",
    "    if guess == \"exit\":\n",
    "        break\n",
    "    guess =int(guess)   \n",
    "    counter += 1\n",
    "    \n",
    "    if guess < a:\n",
    "        print(\"Too low\")\n",
    "        \n",
    "    elif guess > a:\n",
    "        print(\"Too high\")\n",
    "        \n",
    "    else:\n",
    "        print(\"Right!\")\n",
    "        print(\"You took only\", counter , \"tries !\")"
   ]
  },
  {
   "cell_type": "code",
   "execution_count": null,
   "id": "8a2a3f1a",
   "metadata": {},
   "outputs": [],
   "source": []
  }
 ],
 "metadata": {
  "kernelspec": {
   "display_name": "Python 3 (ipykernel)",
   "language": "python",
   "name": "python3"
  },
  "language_info": {
   "codemirror_mode": {
    "name": "ipython",
    "version": 3
   },
   "file_extension": ".py",
   "mimetype": "text/x-python",
   "name": "python",
   "nbconvert_exporter": "python",
   "pygments_lexer": "ipython3",
   "version": "3.9.13"
  }
 },
 "nbformat": 4,
 "nbformat_minor": 5
}
