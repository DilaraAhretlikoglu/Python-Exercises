{
 "cells": [
  {
   "cell_type": "markdown",
   "id": "d412efbe",
   "metadata": {},
   "source": [
    "### Exercise 1 \n",
    "Create a program that asks the user to enter their name and their age. Print out a message addressed to them that tells them the year that they will turn 100 years old. Note: for this exercise, the expectation is that you explicitly write out the year (and therefore be out of date the next year). If you want to do this in a generic way, see exercise 39.\n",
    "\n",
    "Extras:\n",
    "\n",
    "Add on to the previous program by asking the user for another number and printing out that many copies of the previous message. (Hint: order of operations exists in Python)\n",
    "Print out that many copies of the previous message on separate lines. (Hint: the string \"\\n is the same as pressing the ENTER button)"
   ]
  },
  {
   "cell_type": "code",
   "execution_count": 5,
   "id": "6be861c4",
   "metadata": {},
   "outputs": [
    {
     "name": "stdout",
     "output_type": "stream",
     "text": [
      "What is your name ?dilara\n",
      "How old are you ?21\n",
      "dilara, you will be 100 years in the year 2102\n"
     ]
    }
   ],
   "source": [
    "name = input(\"What is your name ?\");\n",
    "age = int(input(\"How old are you ?\"));\n",
    "year = 100 - age + 2023;\n",
    "print(name + \", you will be 100 years in the year \" + str(year));"
   ]
  },
  {
   "cell_type": "code",
   "execution_count": null,
   "id": "7c48803b",
   "metadata": {},
   "outputs": [],
   "source": []
  }
 ],
 "metadata": {
  "kernelspec": {
   "display_name": "Python 3 (ipykernel)",
   "language": "python",
   "name": "python3"
  },
  "language_info": {
   "codemirror_mode": {
    "name": "ipython",
    "version": 3
   },
   "file_extension": ".py",
   "mimetype": "text/x-python",
   "name": "python",
   "nbconvert_exporter": "python",
   "pygments_lexer": "ipython3",
   "version": "3.9.13"
  }
 },
 "nbformat": 4,
 "nbformat_minor": 5
}
