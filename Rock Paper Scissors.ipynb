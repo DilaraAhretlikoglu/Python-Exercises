{
 "cells": [
  {
   "cell_type": "markdown",
   "id": "7bbf0bbc",
   "metadata": {},
   "source": [
    "# Exercise 8 \n",
    "Make a two-player Rock-Paper-Scissors game. (Hint: Ask for player plays (using input), compare them, print out a message of congratulations to the winner, and ask if the players want to start a new game)\n",
    "\n",
    "Remember the rules:\n",
    "\n",
    "* Rock beats scissors\n",
    "* Scissors beats paper\n",
    "* Paper beats rock"
   ]
  },
  {
   "cell_type": "code",
   "execution_count": 8,
   "id": "2f8c460f",
   "metadata": {},
   "outputs": [
    {
     "name": "stdout",
     "output_type": "stream",
     "text": [
      "What's your name first player?dilara\n",
      "What's your name second player?sucuk\n",
      "dilara, do you want to choose rock, paper or scissors?scissors\n",
      "sucuk, do you want to choose rock, paper or scissors?paper\n",
      "Scissors wins!\n"
     ]
    }
   ],
   "source": [
    "firstPlayerName = input(\"What's your name first player?\")\n",
    "secondPlayerName = input(\"What's your name second player?\")\n",
    "\n",
    "firstPlayerAnswer = input(\"%s, do you want to choose rock, paper or scissors?\" % firstPlayerName)\n",
    "secondPlayerAnswer = input(\"%s, do you want to choose rock, paper or scissors?\" % secondPlayerName)\n",
    "\n",
    "def result(answer1, answer2):\n",
    "    answer1 = answer1.lower()  # Küçük harfe çevirme\n",
    "    answer2 = answer2.lower()\n",
    "\n",
    "    if answer1 == answer2:\n",
    "        print(\"It's a tie!\")\n",
    "\n",
    "    elif answer1 == \"rock\":\n",
    "\n",
    "        if answer2 == \"paper\":\n",
    "            print(\"Paper wins!\")\n",
    "\n",
    "        elif answer2 == \"scissors\":\n",
    "            print(\"Rock wins!\")\n",
    "\n",
    "    elif answer1 == \"paper\":\n",
    "\n",
    "        if answer2 == \"rock\":\n",
    "            print(\"Paper wins!\")\n",
    "\n",
    "        elif answer2 == \"scissors\":\n",
    "            print(\"Scissors wins!\")\n",
    "\n",
    "    elif answer1 == \"scissors\":\n",
    "\n",
    "        if answer2 == \"rock\":\n",
    "            print(\"Rock wins!\")\n",
    "\n",
    "        elif answer2 == \"paper\":\n",
    "            print(\"Scissors wins!\")\n",
    "\n",
    "    else:\n",
    "        print(\"Invalid input! You have not entered rock, paper or scissors, try again.\")\n",
    "\n",
    "result(firstPlayerAnswer, secondPlayerAnswer)\n"
   ]
  },
  {
   "cell_type": "code",
   "execution_count": null,
   "id": "a7a9983d",
   "metadata": {},
   "outputs": [],
   "source": []
  }
 ],
 "metadata": {
  "kernelspec": {
   "display_name": "Python 3 (ipykernel)",
   "language": "python",
   "name": "python3"
  },
  "language_info": {
   "codemirror_mode": {
    "name": "ipython",
    "version": 3
   },
   "file_extension": ".py",
   "mimetype": "text/x-python",
   "name": "python",
   "nbconvert_exporter": "python",
   "pygments_lexer": "ipython3",
   "version": "3.9.13"
  }
 },
 "nbformat": 4,
 "nbformat_minor": 5
}
