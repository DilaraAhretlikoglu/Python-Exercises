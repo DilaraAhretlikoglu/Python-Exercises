{
 "cells": [
  {
   "cell_type": "code",
   "execution_count": 6,
   "id": "cf3d103e",
   "metadata": {},
   "outputs": [
    {
     "name": "stdout",
     "output_type": "stream",
     "text": [
      "******1st List******\n",
      "\n",
      "[1, 1, 2, 3]\n",
      "\n",
      "******2st List******\n",
      "\n",
      "Please enter a number:8\n",
      "[1, 1, 2, 3, 5]\n"
     ]
    }
   ],
   "source": [
    "numbers = [1, 1, 2, 3, 5, 8, 13, 21, 34, 55, 89]\n",
    "list1 = [];\n",
    "list2 = [];\n",
    "\n",
    "for x in numbers:\n",
    "    if(x < 5):\n",
    "        list1.append(x);\n",
    "print(\"******1st List******\\n\");\n",
    "print(list1);\n",
    "print(\"\\n******2st List******\\n\");\n",
    "num1 = int(input(\"Please enter a number:\"));\n",
    "for x in numbers:\n",
    "    if(x<num1):\n",
    "        list2.append(x);\n",
    "        \n",
    "print(list2);\n",
    "        "
   ]
  },
  {
   "cell_type": "code",
   "execution_count": null,
   "id": "3d31aa81",
   "metadata": {},
   "outputs": [],
   "source": []
  }
 ],
 "metadata": {
  "kernelspec": {
   "display_name": "Python 3 (ipykernel)",
   "language": "python",
   "name": "python3"
  },
  "language_info": {
   "codemirror_mode": {
    "name": "ipython",
    "version": 3
   },
   "file_extension": ".py",
   "mimetype": "text/x-python",
   "name": "python",
   "nbconvert_exporter": "python",
   "pygments_lexer": "ipython3",
   "version": "3.9.13"
  }
 },
 "nbformat": 4,
 "nbformat_minor": 5
}
