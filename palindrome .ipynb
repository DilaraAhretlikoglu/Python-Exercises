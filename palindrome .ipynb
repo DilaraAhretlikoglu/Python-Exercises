{
 "cells": [
  {
   "cell_type": "markdown",
   "id": "9adb23b8",
   "metadata": {},
   "source": [
    "# Exercise 6 \n",
    "Ask the user for a string and print out whether this string is a palindrome or not. (A palindrome is a string that reads the same forwards and backwards.)"
   ]
  },
  {
   "cell_type": "code",
   "execution_count": 6,
   "id": "42952402",
   "metadata": {},
   "outputs": [
    {
     "name": "stdout",
     "output_type": "stream",
     "text": [
      "Please enter a word : mum\n",
      "mum, is a palindrome word\n"
     ]
    }
   ],
   "source": [
    "word = input(\"Please enter a word : \");\n",
    "rvs = word[::-1];\n",
    "\n",
    "if(rvs == word):\n",
    "    print(\"{}, is a palindrome word\".format(word))\n",
    "else:\n",
    "    print(\"{}, is not a palindrome word\".format(word))\n"
   ]
  },
  {
   "cell_type": "code",
   "execution_count": null,
   "id": "8851bd15",
   "metadata": {},
   "outputs": [],
   "source": []
  }
 ],
 "metadata": {
  "kernelspec": {
   "display_name": "Python 3 (ipykernel)",
   "language": "python",
   "name": "python3"
  },
  "language_info": {
   "codemirror_mode": {
    "name": "ipython",
    "version": 3
   },
   "file_extension": ".py",
   "mimetype": "text/x-python",
   "name": "python",
   "nbconvert_exporter": "python",
   "pygments_lexer": "ipython3",
   "version": "3.9.13"
  }
 },
 "nbformat": 4,
 "nbformat_minor": 5
}
