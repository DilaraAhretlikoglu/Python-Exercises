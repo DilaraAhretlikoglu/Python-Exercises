{
 "cells": [
  {
   "cell_type": "markdown",
   "id": "645d4394",
   "metadata": {},
   "source": [
    "# Exercise 7 \n",
    "Let’s say I give you a list saved in a variable: a = [1, 4, 9, 16, 25, 36, 49, 64, 81, 100]. Write one line of Python that takes this list a and makes a new list that has only the even elements of this list in it."
   ]
  },
  {
   "cell_type": "code",
   "execution_count": 3,
   "id": "cb066a9e",
   "metadata": {},
   "outputs": [
    {
     "name": "stdout",
     "output_type": "stream",
     "text": [
      "Even numbers :  [4, 16, 36, 64, 100]\n"
     ]
    }
   ],
   "source": [
    "list = [1, 4, 9, 16, 25, 36, 49, 64, 81, 100]\n",
    "even_numbers = []\n",
    "for i in list:\n",
    "    if i % 2 == 0:\n",
    "        even_numbers.append(i)\n",
    "print(\"Even numbers : \", even_numbers)"
   ]
  },
  {
   "cell_type": "code",
   "execution_count": null,
   "id": "effc173c",
   "metadata": {},
   "outputs": [],
   "source": []
  }
 ],
 "metadata": {
  "kernelspec": {
   "display_name": "Python 3 (ipykernel)",
   "language": "python",
   "name": "python3"
  },
  "language_info": {
   "codemirror_mode": {
    "name": "ipython",
    "version": 3
   },
   "file_extension": ".py",
   "mimetype": "text/x-python",
   "name": "python",
   "nbconvert_exporter": "python",
   "pygments_lexer": "ipython3",
   "version": "3.9.13"
  }
 },
 "nbformat": 4,
 "nbformat_minor": 5
}
